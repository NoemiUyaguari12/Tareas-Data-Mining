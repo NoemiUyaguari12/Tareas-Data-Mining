{
  "nbformat": 4,
  "nbformat_minor": 0,
  "metadata": {
    "colab": {
      "provenance": []
    },
    "kernelspec": {
      "name": "python3",
      "display_name": "Python 3"
    },
    "language_info": {
      "name": "python"
    }
  },
  "cells": [
    {
      "cell_type": "markdown",
      "source": [
        "Exercise\n",
        "Use the IMDB movie reviews dataset to perform sentiment analysis with a Elman, Jordan and Bidirectional RNN. Highlight the differences on the performance of each architecture."
      ],
      "metadata": {
        "id": "NPfbRGfjmXyu"
      }
    },
    {
      "cell_type": "code",
      "execution_count": 7,
      "metadata": {
        "id": "9ImtxjmRXYt0"
      },
      "outputs": [],
      "source": [
        "from keras.datasets import imdb\n",
        "from keras.utils.data_utils import pad_sequences\n",
        "from keras.models import Sequential\n",
        "from keras.layers import Embedding, SimpleRNN, Dense, Bidirectional\n",
        "import numpy as np"
      ]
    },
    {
      "cell_type": "markdown",
      "source": [
        "Load the IMDB movie reviews dataset"
      ],
      "metadata": {
        "id": "AgK8SBXZjy1J"
      }
    },
    {
      "cell_type": "code",
      "source": [
        "max_features = 5000  # Number of words to consider as features\n",
        "max_len_short = 100  # Maximum sequence length for short sequences\n",
        "max_len_long = 500   # Maximum sequence length for long sequences\n",
        "\n",
        "(x_train, y_train), (x_test, y_test) = imdb.load_data(num_words=max_features)"
      ],
      "metadata": {
        "colab": {
          "base_uri": "https://localhost:8080/"
        },
        "id": "5FkAJoRPd9xg",
        "outputId": "2427e92f-9f5c-4b08-ea3c-9826a9b23b9a"
      },
      "execution_count": 2,
      "outputs": [
        {
          "output_type": "stream",
          "name": "stdout",
          "text": [
            "Downloading data from https://storage.googleapis.com/tensorflow/tf-keras-datasets/imdb.npz\n",
            "17464789/17464789 [==============================] - 0s 0us/step\n"
          ]
        }
      ]
    },
    {
      "cell_type": "markdown",
      "source": [
        "Pad sequences to a fixed length for RNN input"
      ],
      "metadata": {
        "id": "KU890EKsj6-A"
      }
    },
    {
      "cell_type": "code",
      "source": [
        "x_train_short = pad_sequences(x_train, maxlen=max_len_short)\n",
        "x_test_short = pad_sequences(x_test, maxlen=max_len_short)\n",
        "\n",
        "x_train_long = pad_sequences(x_train, maxlen=max_len_long)\n",
        "x_test_long = pad_sequences(x_test, maxlen=max_len_long)"
      ],
      "metadata": {
        "id": "uU5kSUE8eAeW"
      },
      "execution_count": 3,
      "outputs": []
    },
    {
      "cell_type": "markdown",
      "source": [
        "Build the distinct RNN models"
      ],
      "metadata": {
        "id": "GZuXrPCij_Oo"
      }
    },
    {
      "cell_type": "code",
      "source": [
        "def build_elman_rnn_model():\n",
        "    model = Sequential()\n",
        "    model.add(Embedding(max_features, 32))\n",
        "    model.add(SimpleRNN(32, activation='relu'))\n",
        "    model.add(Dense(1, activation='sigmoid'))\n",
        "    return model\n",
        "\n",
        "def build_jordan_rnn_model():\n",
        "    model = Sequential()\n",
        "    model.add(Embedding(max_features, 32))\n",
        "    model.add(SimpleRNN(32, activation='relu', return_sequences=True))\n",
        "    model.add(Dense(1, activation='sigmoid'))\n",
        "    return model\n",
        "\n",
        "def build_bidirectional_rnn_model():\n",
        "    model = Sequential()\n",
        "    model.add(Embedding(max_features, 32))\n",
        "    model.add(Bidirectional(SimpleRNN(32, activation='relu')))\n",
        "    model.add(Dense(1, activation='sigmoid'))\n",
        "    return model"
      ],
      "metadata": {
        "id": "nr8G7hhseCzf"
      },
      "execution_count": 4,
      "outputs": []
    },
    {
      "cell_type": "markdown",
      "source": [
        "Train and evaluate the RNN model"
      ],
      "metadata": {
        "id": "sWIYCsqckCvE"
      }
    },
    {
      "cell_type": "code",
      "source": [
        "def train_and_evaluate_model(model, x_train, y_train, x_test, y_test):\n",
        "    model.compile(optimizer='adam', loss='binary_crossentropy', metrics=['accuracy'])\n",
        "    history = model.fit(x_train, y_train, epochs=5, batch_size=128, validation_split=0.2)\n",
        "    loss, accuracy = model.evaluate(x_test, y_test)\n",
        "    return loss, accuracy, history"
      ],
      "metadata": {
        "id": "2gKE8llCeIEK"
      },
      "execution_count": 16,
      "outputs": []
    },
    {
      "cell_type": "markdown",
      "source": [
        "Train and evaluate the RNN model on short sequences: Elman RNN model"
      ],
      "metadata": {
        "id": "7JM2EQiSliWi"
      }
    },
    {
      "cell_type": "code",
      "execution_count": 17,
      "outputs": [
        {
          "output_type": "stream",
          "name": "stdout",
          "text": [
            "\n",
            "Training RNN model on short sequences:\n",
            "Epoch 1/5\n",
            "157/157 [==============================] - 8s 45ms/step - loss: 0.6165 - accuracy: 0.6571 - val_loss: 0.4682 - val_accuracy: 0.7858\n",
            "Epoch 2/5\n",
            "157/157 [==============================] - 5s 34ms/step - loss: 0.3678 - accuracy: 0.8366 - val_loss: 0.4533 - val_accuracy: 0.8064\n",
            "Epoch 3/5\n",
            "157/157 [==============================] - 7s 44ms/step - loss: 0.2869 - accuracy: 0.8818 - val_loss: 0.3813 - val_accuracy: 0.8314\n",
            "Epoch 4/5\n",
            "157/157 [==============================] - 5s 35ms/step - loss: 0.2455 - accuracy: 0.9015 - val_loss: 0.4581 - val_accuracy: 0.8288\n",
            "Epoch 5/5\n",
            "157/157 [==============================] - 7s 46ms/step - loss: 0.2099 - accuracy: 0.9179 - val_loss: 0.3877 - val_accuracy: 0.8456\n",
            "782/782 [==============================] - 6s 8ms/step - loss: 0.3910 - accuracy: 0.8404\n"
          ]
        }
      ],
      "source": [
        "print(\"\\nTraining RNN model on short sequences:\")\n",
        "rnn_model_short = build_elman_rnn_model()\n",
        "loss_short, accuracy_short, history_short = train_and_evaluate_model(\n",
        "    rnn_model_short, x_train_short, y_train, x_test_short, y_test\n",
        ")"
      ],
      "metadata": {
        "colab": {
          "base_uri": "https://localhost:8080/"
        },
        "id": "Dh65EDcEXVJZ",
        "outputId": "c05be73a-8592-452e-ccbf-9642fb889c94"
      }
    },
    {
      "cell_type": "markdown",
      "source": [
        "Train and evaluate the RNN model on long sequences: Elman RNN model"
      ],
      "metadata": {
        "id": "iC6Qr1_wl7Hp"
      }
    },
    {
      "cell_type": "code",
      "execution_count": 18,
      "outputs": [
        {
          "output_type": "stream",
          "name": "stdout",
          "text": [
            "\n",
            "Training Elman RNN model on long sequences:\n",
            "Epoch 1/5\n",
            "157/157 [==============================] - 31s 187ms/step - loss: 0.6591 - accuracy: 0.6045 - val_loss: 0.5868 - val_accuracy: 0.7144\n",
            "Epoch 2/5\n",
            "157/157 [==============================] - 27s 171ms/step - loss: 0.4631 - accuracy: 0.7966 - val_loss: 0.4555 - val_accuracy: 0.7926\n",
            "Epoch 3/5\n",
            "157/157 [==============================] - 28s 176ms/step - loss: 0.4890 - accuracy: 0.7625 - val_loss: 0.5160 - val_accuracy: 0.7332\n",
            "Epoch 4/5\n",
            "157/157 [==============================] - 27s 174ms/step - loss: 0.3577 - accuracy: 0.8467 - val_loss: 0.3727 - val_accuracy: 0.8428\n",
            "Epoch 5/5\n",
            "157/157 [==============================] - 34s 218ms/step - loss: 0.2912 - accuracy: 0.8805 - val_loss: 0.4379 - val_accuracy: 0.8006\n",
            "782/782 [==============================] - 20s 26ms/step - loss: 0.4434 - accuracy: 0.8018\n"
          ]
        }
      ],
      "source": [
        "print(\"\\nTraining Elman RNN model on long sequences:\")\n",
        "rnn_model_long = build_elman_rnn_model()\n",
        "loss_long, accuracy_long, history_long = train_and_evaluate_model(\n",
        "    rnn_model_long, x_train_long, y_train, x_test_long, y_test\n",
        ")"
      ],
      "metadata": {
        "colab": {
          "base_uri": "https://localhost:8080/"
        },
        "id": "LV5jEU7AXVJf",
        "outputId": "984c0e31-f9f0-43fa-f68c-f576b76ebc73"
      }
    },
    {
      "cell_type": "markdown",
      "source": [
        "Compare the results"
      ],
      "metadata": {
        "id": "Oi6a5-1cmGnB"
      }
    },
    {
      "cell_type": "code",
      "source": [
        "print(\"\\nResults on Short Sequences:\")\n",
        "print(f\"Loss: {loss_short:.4f}, Accuracy: {accuracy_short:.4f}\")\n",
        "\n",
        "print(\"\\nResults on Long Sequences:\")\n",
        "print(f\"Loss: {loss_long:.4f}, Accuracy: {accuracy_long:.4f}\")"
      ],
      "metadata": {
        "colab": {
          "base_uri": "https://localhost:8080/"
        },
        "id": "3zxBhTa0mLBj",
        "outputId": "675eff63-5411-4803-e81d-6c6d6af55fdf"
      },
      "execution_count": 19,
      "outputs": [
        {
          "output_type": "stream",
          "name": "stdout",
          "text": [
            "\n",
            "Results on Short Sequences:\n",
            "Loss: 0.3910, Accuracy: 0.8404\n",
            "\n",
            "Results on Long Sequences:\n",
            "Loss: 0.4434, Accuracy: 0.8018\n"
          ]
        }
      ]
    },
    {
      "cell_type": "markdown",
      "source": [
        "**TAREA EN CLASES**\n",
        "\n",
        "---\n",
        "\n"
      ],
      "metadata": {
        "id": "28sQ2GFNldsv"
      }
    },
    {
      "cell_type": "code",
      "source": [
        "# Convertir etiquetas a formato de columna\n",
        "y_train = np.expand_dims(y_train, axis=1)\n",
        "y_test = np.expand_dims(y_test, axis=1)"
      ],
      "metadata": {
        "id": "ITp8IfbwfD9P"
      },
      "execution_count": 8,
      "outputs": []
    },
    {
      "cell_type": "markdown",
      "source": [
        "Train and evaluate the RNN model on short sequences:Jordan RNN model\n",
        "\n",
        "---\n",
        "\n"
      ],
      "metadata": {
        "id": "xhVQwZe6kG17"
      }
    },
    {
      "cell_type": "code",
      "source": [
        "print(\"\\nTraining Jordan RNN model on short sequences:\")\n",
        "jordan_rnn_model_short = build_jordan_rnn_model()\n",
        "x_train_short = pad_sequences(x_train, maxlen=max_len_short)\n",
        "x_test_short = pad_sequences(x_test, maxlen=max_len_short)\n",
        "loss_short, accuracy_short, history_short = train_and_evaluate_model(\n",
        "    jordan_rnn_model_short, x_train_short, y_train, x_test_short, y_test\n",
        ")"
      ],
      "metadata": {
        "colab": {
          "base_uri": "https://localhost:8080/"
        },
        "id": "j_ELc-cmeMEJ",
        "outputId": "34aeefbb-0179-47b4-dc25-09735295538f"
      },
      "execution_count": 9,
      "outputs": [
        {
          "output_type": "stream",
          "name": "stdout",
          "text": [
            "\n",
            "Training Jordan RNN model on short sequences:\n",
            "Epoch 1/5\n",
            "157/157 [==============================] - 14s 68ms/step - loss: 0.5964 - accuracy: 0.6579 - val_loss: 0.5109 - val_accuracy: 0.7385\n",
            "Epoch 2/5\n",
            "157/157 [==============================] - 7s 47ms/step - loss: 0.4709 - accuracy: 0.7688 - val_loss: 0.5143 - val_accuracy: 0.7387\n",
            "Epoch 3/5\n",
            "157/157 [==============================] - 6s 41ms/step - loss: 0.4305 - accuracy: 0.7916 - val_loss: 0.5340 - val_accuracy: 0.7300\n",
            "Epoch 4/5\n",
            "157/157 [==============================] - 8s 49ms/step - loss: 0.4072 - accuracy: 0.8052 - val_loss: 0.5958 - val_accuracy: 0.7260\n",
            "Epoch 5/5\n",
            "157/157 [==============================] - 6s 41ms/step - loss: 0.3895 - accuracy: 0.8143 - val_loss: 0.5364 - val_accuracy: 0.7301\n",
            "782/782 [==============================] - 7s 9ms/step - loss: 0.5356 - accuracy: 0.7309\n"
          ]
        }
      ]
    },
    {
      "cell_type": "markdown",
      "source": [
        "Train and evaluate the RNN model on long sequences: Jordan RNN model"
      ],
      "metadata": {
        "id": "N5fXqzVvkQOn"
      }
    },
    {
      "cell_type": "code",
      "source": [
        "print(\"\\nTraining Jordan RNN model on long sequences:\")\n",
        "jordan_rnn_model_long = build_jordan_rnn_model()\n",
        "x_train_long = pad_sequences(x_train, maxlen=max_len_long)\n",
        "x_test_long = pad_sequences(x_test, maxlen=max_len_long)\n",
        "loss_long, accuracy_long, history_long = train_and_evaluate_model(\n",
        "    jordan_rnn_model_long, x_train_long, y_train, x_test_long, y_test\n",
        ")"
      ],
      "metadata": {
        "colab": {
          "base_uri": "https://localhost:8080/"
        },
        "id": "7RE-A_wHfyC3",
        "outputId": "ddc9b0be-1e1e-42f3-af19-53afc75cb799"
      },
      "execution_count": 10,
      "outputs": [
        {
          "output_type": "stream",
          "name": "stdout",
          "text": [
            "\n",
            "Training Jordan RNN model on long sequences:\n",
            "Epoch 1/5\n",
            "157/157 [==============================] - 37s 224ms/step - loss: 0.6670 - accuracy: 0.5643 - val_loss: 0.6414 - val_accuracy: 0.6053\n",
            "Epoch 2/5\n",
            "157/157 [==============================] - 33s 213ms/step - loss: 0.6071 - accuracy: 0.6205 - val_loss: 0.6131 - val_accuracy: 0.6140\n",
            "Epoch 3/5\n",
            "157/157 [==============================] - 33s 208ms/step - loss: 0.5806 - accuracy: 0.6339 - val_loss: 0.6464 - val_accuracy: 0.5804\n",
            "Epoch 4/5\n",
            "157/157 [==============================] - 34s 215ms/step - loss: 0.6027 - accuracy: 0.6168 - val_loss: 0.5915 - val_accuracy: 0.6230\n",
            "Epoch 5/5\n",
            "157/157 [==============================] - 38s 239ms/step - loss: 0.5964 - accuracy: 0.6353 - val_loss: 0.6391 - val_accuracy: 0.5975\n",
            "782/782 [==============================] - 25s 32ms/step - loss: 0.6425 - accuracy: 0.5898\n"
          ]
        }
      ]
    },
    {
      "cell_type": "markdown",
      "source": [
        "Compare the results\n"
      ],
      "metadata": {
        "id": "6ZxxLoEakYql"
      }
    },
    {
      "cell_type": "code",
      "source": [
        "print(\"\\nResults on Short Sequences:\")\n",
        "print(f\"Loss: {loss_short:.4f}, Accuracy: {accuracy_short:.4f}\")\n",
        "\n",
        "print(\"\\nResults on Long Sequences:\")\n",
        "print(f\"Loss: {loss_long:.4f}, Accuracy: {accuracy_long:.4f}\")"
      ],
      "metadata": {
        "colab": {
          "base_uri": "https://localhost:8080/"
        },
        "id": "XDQdWGicg0dB",
        "outputId": "d3043c4f-1ea5-4a81-f1d4-6ccdcef253b1"
      },
      "execution_count": 11,
      "outputs": [
        {
          "output_type": "stream",
          "name": "stdout",
          "text": [
            "\n",
            "Results on Short Sequences:\n",
            "Loss: 0.5356, Accuracy: 0.7309\n",
            "\n",
            "Results on Long Sequences:\n",
            "Loss: 0.6425, Accuracy: 0.5898\n"
          ]
        }
      ]
    },
    {
      "cell_type": "markdown",
      "source": [
        "Train and evaluate the RNN model on short sequences:Bidirectional  RNN model\n",
        "\n",
        "---"
      ],
      "metadata": {
        "id": "_LYOR9WZkiJ4"
      }
    },
    {
      "cell_type": "code",
      "source": [
        "print(\"\\nTraining Bidirectional RNN model on short sequences:\")\n",
        "bidirectional_rnn_model_short = build_bidirectional_rnn_model()\n",
        "x_train_short = pad_sequences(x_train, maxlen=max_len_short)\n",
        "x_test_short = pad_sequences(x_test, maxlen=max_len_short)\n",
        "loss_short, accuracy_short, history_short = train_and_evaluate_model(\n",
        "    bidirectional_rnn_model_short, x_train_short, y_train, x_test_short, y_test\n",
        ")"
      ],
      "metadata": {
        "colab": {
          "base_uri": "https://localhost:8080/"
        },
        "id": "Dg879Exug-PZ",
        "outputId": "c8974a54-01f4-4f15-bd40-2f45d2610366"
      },
      "execution_count": 12,
      "outputs": [
        {
          "output_type": "stream",
          "name": "stdout",
          "text": [
            "\n",
            "Training Bidirectional RNN model on short sequences:\n",
            "Epoch 1/5\n",
            "157/157 [==============================] - 15s 74ms/step - loss: 0.6740 - accuracy: 0.5901 - val_loss: 0.5984 - val_accuracy: 0.7396\n",
            "Epoch 2/5\n",
            "157/157 [==============================] - 11s 71ms/step - loss: 0.4001 - accuracy: 0.8271 - val_loss: 0.3948 - val_accuracy: 0.8268\n",
            "Epoch 3/5\n",
            "157/157 [==============================] - 10s 66ms/step - loss: 0.2822 - accuracy: 0.8837 - val_loss: 0.3501 - val_accuracy: 0.8422\n",
            "Epoch 4/5\n",
            "157/157 [==============================] - 11s 70ms/step - loss: 0.2295 - accuracy: 0.9069 - val_loss: 0.3670 - val_accuracy: 0.8334\n",
            "Epoch 5/5\n",
            "157/157 [==============================] - 11s 73ms/step - loss: 0.1858 - accuracy: 0.9291 - val_loss: 0.4031 - val_accuracy: 0.8392\n",
            "782/782 [==============================] - 10s 13ms/step - loss: 0.4000 - accuracy: 0.8385\n"
          ]
        }
      ]
    },
    {
      "cell_type": "markdown",
      "source": [
        "Train and evaluate the RNN model on long sequences: Bidirectional RNN model"
      ],
      "metadata": {
        "id": "sPh-_9I3kxcB"
      }
    },
    {
      "cell_type": "code",
      "source": [
        "print(\"\\nTraining Bidirectional RNN model on long sequences:\")\n",
        "bidirectional_rnn_model_long = build_bidirectional_rnn_model()\n",
        "x_train_long = pad_sequences(x_train, maxlen=max_len_long)\n",
        "x_test_long = pad_sequences(x_test, maxlen=max_len_long)\n",
        "loss_long, accuracy_long, history_long = train_and_evaluate_model(\n",
        "    bidirectional_rnn_model_long, x_train_long, y_train, x_test_long, y_test\n",
        ")\n"
      ],
      "metadata": {
        "colab": {
          "base_uri": "https://localhost:8080/"
        },
        "id": "g_WM14IDhyDi",
        "outputId": "1e6bf051-9e7c-4e1a-b736-29b56ba07e78"
      },
      "execution_count": 13,
      "outputs": [
        {
          "output_type": "stream",
          "name": "stdout",
          "text": [
            "\n",
            "Training Bidirectional RNN model on long sequences:\n",
            "Epoch 1/5\n",
            "157/157 [==============================] - 57s 340ms/step - loss: 0.6653 - accuracy: 0.5961 - val_loss: 0.5767 - val_accuracy: 0.7102\n",
            "Epoch 2/5\n",
            "157/157 [==============================] - 56s 354ms/step - loss: 0.4577 - accuracy: 0.7865 - val_loss: 0.4170 - val_accuracy: 0.8080\n",
            "Epoch 3/5\n",
            "157/157 [==============================] - 56s 355ms/step - loss: 0.3523 - accuracy: 0.8503 - val_loss: 0.4494 - val_accuracy: 0.7862\n",
            "Epoch 4/5\n",
            "157/157 [==============================] - 58s 369ms/step - loss: 0.3494 - accuracy: 0.8508 - val_loss: 0.4156 - val_accuracy: 0.7998\n",
            "Epoch 5/5\n",
            "157/157 [==============================] - 60s 381ms/step - loss: 0.3019 - accuracy: 0.8698 - val_loss: 0.3691 - val_accuracy: 0.8428\n",
            "782/782 [==============================] - 31s 39ms/step - loss: 0.3656 - accuracy: 0.8427\n"
          ]
        }
      ]
    },
    {
      "cell_type": "markdown",
      "source": [
        "Compare the results"
      ],
      "metadata": {
        "id": "UUaiawCklFs1"
      }
    },
    {
      "cell_type": "code",
      "source": [
        "print(\"\\nResults on Short Sequences:\")\n",
        "print(f\"Loss: {loss_short:.4f}, Accuracy: {accuracy_short:.4f}\")\n",
        "\n",
        "print(\"\\nResults on Long Sequences:\")\n",
        "print(f\"Loss: {loss_long:.4f}, Accuracy: {accuracy_long:.4f}\")"
      ],
      "metadata": {
        "colab": {
          "base_uri": "https://localhost:8080/"
        },
        "id": "YvQFZev3jdkN",
        "outputId": "8a0ef04a-25c1-42f1-c757-3534de360615"
      },
      "execution_count": 15,
      "outputs": [
        {
          "output_type": "stream",
          "name": "stdout",
          "text": [
            "\n",
            "Results on Short Sequences:\n",
            "Loss: 0.4000, Accuracy: 0.8385\n",
            "\n",
            "Results on Long Sequences:\n",
            "Loss: 0.3656, Accuracy: 0.8427\n"
          ]
        }
      ]
    }
  ]
}